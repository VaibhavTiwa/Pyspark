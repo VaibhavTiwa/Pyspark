{
  "nbformat": 4,
  "nbformat_minor": 0,
  "metadata": {
    "colab": {
      "provenance": [],
      "toc_visible": true,
      "history_visible": true,
      "mount_file_id": "1S0uDDZXmt1my-pItbM5XxD0rFa5zbsEh",
      "authorship_tag": "ABX9TyOFduAE12ZX1c+w4Nsf+d+v",
      "include_colab_link": true
    },
    "kernelspec": {
      "name": "python3",
      "display_name": "Python 3"
    },
    "language_info": {
      "name": "python"
    }
  },
  "cells": [
    {
      "cell_type": "markdown",
      "metadata": {
        "id": "view-in-github",
        "colab_type": "text"
      },
      "source": [
        "<a href=\"https://colab.research.google.com/github/VaibhavTiwa/Pyspark/blob/main/Untitled0.ipynb\" target=\"_parent\"><img src=\"https://colab.research.google.com/assets/colab-badge.svg\" alt=\"Open In Colab\"/></a>"
      ]
    },
    {
      "cell_type": "code",
      "execution_count": null,
      "metadata": {
        "colab": {
          "base_uri": "https://localhost:8080/"
        },
        "id": "S0JqvYpao9Jp",
        "outputId": "9c2a3d8f-20b0-43bd-c755-483717a613aa"
      },
      "outputs": [
        {
          "output_type": "stream",
          "name": "stdout",
          "text": [
            "Looking in indexes: https://pypi.org/simple, https://us-python.pkg.dev/colab-wheels/public/simple/\n",
            "Collecting pyspark\n",
            "  Downloading pyspark-3.4.0.tar.gz (310.8 MB)\n",
            "\u001b[2K     \u001b[90m━━━━━━━━━━━━━━━━━━━━━━━━━━━━━━━━━━━━━━━\u001b[0m \u001b[32m310.8/310.8 MB\u001b[0m \u001b[31m4.5 MB/s\u001b[0m eta \u001b[36m0:00:00\u001b[0m\n",
            "\u001b[?25h  Preparing metadata (setup.py) ... \u001b[?25l\u001b[?25hdone\n",
            "Requirement already satisfied: py4j==0.10.9.7 in /usr/local/lib/python3.10/dist-packages (from pyspark) (0.10.9.7)\n",
            "Building wheels for collected packages: pyspark\n",
            "  Building wheel for pyspark (setup.py) ... \u001b[?25l\u001b[?25hdone\n",
            "  Created wheel for pyspark: filename=pyspark-3.4.0-py2.py3-none-any.whl size=311317145 sha256=6639d1a2e76a3c1a108f94284bb557649cacc58dc43b825ade2c09b9bffc326a\n",
            "  Stored in directory: /root/.cache/pip/wheels/7b/1b/4b/3363a1d04368e7ff0d408e57ff57966fcdf00583774e761327\n",
            "Successfully built pyspark\n",
            "Installing collected packages: pyspark\n",
            "Successfully installed pyspark-3.4.0\n"
          ]
        }
      ],
      "source": [
        "!pip install pyspark"
      ]
    },
    {
      "cell_type": "markdown",
      "source": [
        "## ***This is the Process to install pyspark***"
      ],
      "metadata": {
        "id": "uO16lU3opJtL"
      }
    },
    {
      "cell_type": "code",
      "source": [
        "from pyspark.sql import SparkSession"
      ],
      "metadata": {
        "id": "RIp1ixPCpUgm"
      },
      "execution_count": null,
      "outputs": []
    },
    {
      "cell_type": "code",
      "source": [
        "spark=SparkSession.builder\\\n",
        "      .master(\"local[1]\") \\\n",
        "      .appName(\"vaibhav tiwari\") \\\n",
        "      .getOrCreate()"
      ],
      "metadata": {
        "id": "7DjdHe5MrHo8"
      },
      "execution_count": null,
      "outputs": []
    },
    {
      "cell_type": "markdown",
      "source": [
        "# **HOW TO READ CSV IN PYSPARK**\n",
        "⚡"
      ],
      "metadata": {
        "id": "qIzUuMQaB3mb"
      }
    },
    {
      "cell_type": "code",
      "source": [
        "df=spark.read.csv(\"/content/sparkcsv2.txt\",header=True,inferSchema=True)\n",
        "df.show()"
      ],
      "metadata": {
        "colab": {
          "base_uri": "https://localhost:8080/"
        },
        "id": "Bbpi_WQg-xXw",
        "outputId": "82569219-c8f0-41f1-b6eb-1c034e9c9daf"
      },
      "execution_count": null,
      "outputs": [
        {
          "output_type": "stream",
          "name": "stdout",
          "text": [
            "+-------+----+----------+------+\n",
            "|   name| age|experience|salary|\n",
            "+-------+----+----------+------+\n",
            "|   John|  25|         2|  2000|\n",
            "|  Alice|  28|         5| 20000|\n",
            "|    Bob|  32|         8| 19999|\n",
            "|  Sarah|null|         1|  null|\n",
            "|Michael|  37|        12|  3434|\n",
            "|  Emily|  29|         6|   676|\n",
            "|  David|  26|         3|  null|\n",
            "|  Karen|  31|         7|  3434|\n",
            "| Daniel|  24|         5|    34|\n",
            "|    sam|null|      null|  null|\n",
            "|   eaam|  23|      null|  null|\n",
            "|   null|null|      null|  null|\n",
            "+-------+----+----------+------+\n",
            "\n"
          ]
        }
      ]
    },
    {
      "cell_type": "markdown",
      "source": [
        "# How to see the type of a data ***frame***:\n",
        "⚙\n",
        "\n"
      ],
      "metadata": {
        "id": "LWpj0Bu5Blhj"
      }
    },
    {
      "cell_type": "code",
      "source": [
        "type(df)\n",
        "df.columns\n",
        "df.show()\n",
        "df.head(2)\n",
        "df.select(['experience','name']).show()"
      ],
      "metadata": {
        "colab": {
          "base_uri": "https://localhost:8080/"
        },
        "id": "EIVqCUdnB1sV",
        "outputId": "7eef7d9f-6777-4d88-ffde-20588f4cc332"
      },
      "execution_count": null,
      "outputs": [
        {
          "output_type": "stream",
          "name": "stdout",
          "text": [
            "+-------+---+----------+\n",
            "|   name|age|experience|\n",
            "+-------+---+----------+\n",
            "|   John| 25|         2|\n",
            "|  Alice| 28|         5|\n",
            "|    Bob| 32|         8|\n",
            "|  Sarah| 21|         1|\n",
            "|Michael| 37|        12|\n",
            "|  Emily| 29|         6|\n",
            "|  David| 26|         3|\n",
            "|  Karen| 31|         7|\n",
            "| Daniel| 24|         5|\n",
            "+-------+---+----------+\n",
            "\n",
            "+----------+-------+\n",
            "|experience|   name|\n",
            "+----------+-------+\n",
            "|         2|   John|\n",
            "|         5|  Alice|\n",
            "|         8|    Bob|\n",
            "|         1|  Sarah|\n",
            "|        12|Michael|\n",
            "|         6|  Emily|\n",
            "|         3|  David|\n",
            "|         7|  Karen|\n",
            "|         5| Daniel|\n",
            "+----------+-------+\n",
            "\n"
          ]
        }
      ]
    },
    {
      "cell_type": "markdown",
      "source": [
        "# ***HOW TO CHECK THE DATATYPES***\n",
        "\n",
        "---\n",
        "✌\n",
        "\n"
      ],
      "metadata": {
        "id": "vLfnNGaDD3Al"
      }
    },
    {
      "cell_type": "code",
      "source": [
        "df.dtypes\n",
        "df.describe().show()"
      ],
      "metadata": {
        "colab": {
          "base_uri": "https://localhost:8080/"
        },
        "id": "OkEo0GrOD_tl",
        "outputId": "b9a32110-4cef-4eef-acea-6d47c6819541"
      },
      "execution_count": null,
      "outputs": [
        {
          "output_type": "stream",
          "name": "stdout",
          "text": [
            "+-------+-----+------------------+-----------------+\n",
            "|summary| name|               age|       experience|\n",
            "+-------+-----+------------------+-----------------+\n",
            "|  count|    9|                 9|                9|\n",
            "|   mean| null| 28.11111111111111|5.444444444444445|\n",
            "| stddev| null|4.8074017006186525|3.358240279934981|\n",
            "|    min|Alice|                21|                1|\n",
            "|    max|Sarah|                37|               12|\n",
            "+-------+-----+------------------+-----------------+\n",
            "\n"
          ]
        }
      ]
    },
    {
      "cell_type": "markdown",
      "source": [
        "# ADD NEW COLUMN DELETE A CLOUMN\n",
        "Ⓜ "
      ],
      "metadata": {
        "id": "3845_qllFN62"
      }
    },
    {
      "cell_type": "code",
      "source": [
        "df=df.withColumn('ex2',df['experience']+2 )\n",
        "df.show()\n",
        "#now if i want to drop a column\n",
        "df=df.drop(\"ex2\",'name ki ma ki').show()\n"
      ],
      "metadata": {
        "colab": {
          "base_uri": "https://localhost:8080/"
        },
        "id": "2cKOou8FFVnw",
        "outputId": "b08283d0-655b-41c5-f4c5-20417461f5de"
      },
      "execution_count": null,
      "outputs": [
        {
          "output_type": "stream",
          "name": "stdout",
          "text": [
            "+-------+---+----------+---+\n",
            "|   name|age|experience|ex2|\n",
            "+-------+---+----------+---+\n",
            "|   John| 25|         2|  4|\n",
            "|  Alice| 28|         5|  7|\n",
            "|    Bob| 32|         8| 10|\n",
            "|  Sarah| 21|         1|  3|\n",
            "|Michael| 37|        12| 14|\n",
            "|  Emily| 29|         6|  8|\n",
            "|  David| 26|         3|  5|\n",
            "|  Karen| 31|         7|  9|\n",
            "| Daniel| 24|         5|  7|\n",
            "+-------+---+----------+---+\n",
            "\n",
            "+-------+---+----------+\n",
            "|   name|age|experience|\n",
            "+-------+---+----------+\n",
            "|   John| 25|         2|\n",
            "|  Alice| 28|         5|\n",
            "|    Bob| 32|         8|\n",
            "|  Sarah| 21|         1|\n",
            "|Michael| 37|        12|\n",
            "|  Emily| 29|         6|\n",
            "|  David| 26|         3|\n",
            "|  Karen| 31|         7|\n",
            "| Daniel| 24|         5|\n",
            "+-------+---+----------+\n",
            "\n"
          ]
        }
      ]
    },
    {
      "cell_type": "code",
      "source": [
        "df=df.withColumnRenamed('name','naam').show()\n"
      ],
      "metadata": {
        "colab": {
          "base_uri": "https://localhost:8080/"
        },
        "id": "y8byFTNCImBd",
        "outputId": "959d1e25-e040-4cdc-deaa-9a6b3cca21f7"
      },
      "execution_count": null,
      "outputs": [
        {
          "output_type": "stream",
          "name": "stdout",
          "text": [
            "+-------+----+----------+------+\n",
            "|   naam| age|experience|salary|\n",
            "+-------+----+----------+------+\n",
            "|   John|  25|         2|  2000|\n",
            "|  Alice|  28|         5| 20000|\n",
            "|    Bob|  32|         8| 19999|\n",
            "|  Sarah|null|         1|  null|\n",
            "|Michael|  37|        12|  3434|\n",
            "|  Emily|  29|         6|   676|\n",
            "|  David|  26|         3|  null|\n",
            "|  Karen|  31|         7|  3434|\n",
            "| Daniel|  24|         5|    34|\n",
            "|    sam|null|         0|  null|\n",
            "+-------+----+----------+------+\n",
            "\n"
          ]
        }
      ]
    },
    {
      "cell_type": "markdown",
      "source": [
        "# ***`HOW TO DELETE THE NULL COLUMNS`***\n",
        "\n",
        "\n"
      ],
      "metadata": {
        "id": "suMa-clLPY9n"
      }
    },
    {
      "cell_type": "code",
      "source": [
        "df.show()\n",
        "# df=df.na.drop()\n",
        "# df.show()\n",
        "#how if how=all than it will drop if the whole row is null and if how = anny than it drop if any row is null\n",
        "#df=df.na.drop(how='all').show()\n",
        "# df=df.na.drop(how='any')\n",
        "# df.show()\n",
        "##subset\n",
        "\n",
        "df.na.drop(how='all',subset=['age']).show()\n"
      ],
      "metadata": {
        "colab": {
          "base_uri": "https://localhost:8080/"
        },
        "id": "47BZMt0GPhup",
        "outputId": "3b5df22f-42ca-48ee-d8ab-0553b0a65fe5"
      },
      "execution_count": null,
      "outputs": [
        {
          "output_type": "stream",
          "name": "stdout",
          "text": [
            "+-------+----+----------+------+\n",
            "|   name| age|experience|salary|\n",
            "+-------+----+----------+------+\n",
            "|   John|  25|         2|  2000|\n",
            "|  Alice|  28|         5| 20000|\n",
            "|    Bob|  32|         8| 19999|\n",
            "|  Sarah|null|         1|  null|\n",
            "|Michael|  37|        12|  3434|\n",
            "|  Emily|  29|         6|   676|\n",
            "|  David|  26|         3|  null|\n",
            "|  Karen|  31|         7|  3434|\n",
            "| Daniel|  24|         5|    34|\n",
            "|    sam|null|      null|  null|\n",
            "|   eaam|  23|      null|  null|\n",
            "|   null|null|      null|  null|\n",
            "+-------+----+----------+------+\n",
            "\n",
            "+-------+---+----------+------+\n",
            "|   name|age|experience|salary|\n",
            "+-------+---+----------+------+\n",
            "|   John| 25|         2|  2000|\n",
            "|  Alice| 28|         5| 20000|\n",
            "|    Bob| 32|         8| 19999|\n",
            "|Michael| 37|        12|  3434|\n",
            "|  Emily| 29|         6|   676|\n",
            "|  David| 26|         3|  null|\n",
            "|  Karen| 31|         7|  3434|\n",
            "| Daniel| 24|         5|    34|\n",
            "|   eaam| 23|      null|  null|\n",
            "+-------+---+----------+------+\n",
            "\n"
          ]
        }
      ]
    },
    {
      "cell_type": "markdown",
      "source": [
        "# ***`FILLING THE MSSING RECODS:`***\n",
        "✊\n",
        "\n"
      ],
      "metadata": {
        "id": "kUUwQc8qU60C"
      }
    },
    {
      "cell_type": "code",
      "source": [
        "df.na.fill('Missing values',['age']).show()\n"
      ],
      "metadata": {
        "colab": {
          "base_uri": "https://localhost:8080/"
        },
        "id": "EmHzlZzwVFZb",
        "outputId": "308ab7ac-fdf4-42e4-c46e-8e77a8e3e4c4"
      },
      "execution_count": null,
      "outputs": [
        {
          "output_type": "stream",
          "name": "stdout",
          "text": [
            "+-------+----+----------+------+\n",
            "|   name| age|experience|salary|\n",
            "+-------+----+----------+------+\n",
            "|   John|  25|         2|  2000|\n",
            "|  Alice|  28|         5| 20000|\n",
            "|    Bob|  32|         8| 19999|\n",
            "|  Sarah|null|         1|  null|\n",
            "|Michael|  37|        12|  3434|\n",
            "|  Emily|  29|         6|   676|\n",
            "|  David|  26|         3|  null|\n",
            "|  Karen|  31|         7|  3434|\n",
            "| Daniel|  24|         5|    34|\n",
            "|    sam|null|      null|  null|\n",
            "|   eaam|  23|      null|  null|\n",
            "|   null|null|      null|  null|\n",
            "+-------+----+----------+------+\n",
            "\n"
          ]
        }
      ]
    },
    {
      "cell_type": "markdown",
      "source": [
        "# ***`FILTER OPERATION IN PYSPARK:`***\n",
        "✌\n"
      ],
      "metadata": {
        "id": "INH-rDrmY1DS"
      }
    },
    {
      "cell_type": "code",
      "source": [
        "df.show()\n",
        "df.filter(('salary>=1000')).select('name').show()\n",
        "#if i want to select omly few columns on the basis of this ill go for select\n",
        "df.filter((df['salary']>=1000) | (df['age']>=18)).show()# this is hoe we use multiple filter\n",
        "# now we will go for the not operation \n",
        "df.filter(~(df['salary'] <= 1000)).show()\n",
        "\n",
        "\n"
      ],
      "metadata": {
        "colab": {
          "base_uri": "https://localhost:8080/"
        },
        "id": "YpKbrc1cZFsO",
        "outputId": "97241545-830f-43e0-e3d6-cd79203651fa"
      },
      "execution_count": null,
      "outputs": [
        {
          "output_type": "stream",
          "name": "stdout",
          "text": [
            "+-------+----+----------+------+\n",
            "|   name| age|experience|salary|\n",
            "+-------+----+----------+------+\n",
            "|   John|  25|         2|  2000|\n",
            "|  Alice|  28|         5| 20000|\n",
            "|    Bob|  32|         8| 19999|\n",
            "|  Sarah|null|         1|  null|\n",
            "|Michael|  37|        12|  3434|\n",
            "|  Emily|  29|         6|   676|\n",
            "|  David|  26|         3|  null|\n",
            "|  Karen|  31|         7|  3434|\n",
            "| Daniel|  24|         5|    34|\n",
            "|    sam|null|      null|  null|\n",
            "|   eaam|  23|      null|  null|\n",
            "|   null|null|      null|  null|\n",
            "+-------+----+----------+------+\n",
            "\n",
            "+-------+\n",
            "|   name|\n",
            "+-------+\n",
            "|   John|\n",
            "|  Alice|\n",
            "|    Bob|\n",
            "|Michael|\n",
            "|  Karen|\n",
            "+-------+\n",
            "\n",
            "+-------+---+----------+------+\n",
            "|   name|age|experience|salary|\n",
            "+-------+---+----------+------+\n",
            "|   John| 25|         2|  2000|\n",
            "|  Alice| 28|         5| 20000|\n",
            "|    Bob| 32|         8| 19999|\n",
            "|Michael| 37|        12|  3434|\n",
            "|  Emily| 29|         6|   676|\n",
            "|  David| 26|         3|  null|\n",
            "|  Karen| 31|         7|  3434|\n",
            "| Daniel| 24|         5|    34|\n",
            "|   eaam| 23|      null|  null|\n",
            "+-------+---+----------+------+\n",
            "\n",
            "+-------+---+----------+------+\n",
            "|   name|age|experience|salary|\n",
            "+-------+---+----------+------+\n",
            "|   John| 25|         2|  2000|\n",
            "|  Alice| 28|         5| 20000|\n",
            "|    Bob| 32|         8| 19999|\n",
            "|Michael| 37|        12|  3434|\n",
            "|  Karen| 31|         7|  3434|\n",
            "+-------+---+----------+------+\n",
            "\n"
          ]
        }
      ]
    },
    {
      "cell_type": "markdown",
      "source": [
        "# GROUP BY AND AGGREGATE FUNCTION IN **PYSPARK** *:*\n",
        "💯"
      ],
      "metadata": {
        "id": "beS3tjX8dA_N"
      }
    },
    {
      "cell_type": "code",
      "source": [
        "from pyspark.sql import SparkSession\n",
        "spark=SparkSession.builder.appName('tiwariji').getOrCreate()\n",
        "spark\n"
      ],
      "metadata": {
        "colab": {
          "base_uri": "https://localhost:8080/",
          "height": 219
        },
        "id": "miCH7xzOdAt0",
        "outputId": "9202b4f5-3de7-474e-dafc-4c8ff869e5fe"
      },
      "execution_count": null,
      "outputs": [
        {
          "output_type": "execute_result",
          "data": {
            "text/plain": [
              "<pyspark.sql.session.SparkSession at 0x7f2127d41900>"
            ],
            "text/html": [
              "\n",
              "            <div>\n",
              "                <p><b>SparkSession - in-memory</b></p>\n",
              "                \n",
              "        <div>\n",
              "            <p><b>SparkContext</b></p>\n",
              "\n",
              "            <p><a href=\"http://0a45f081f7df:4040\">Spark UI</a></p>\n",
              "\n",
              "            <dl>\n",
              "              <dt>Version</dt>\n",
              "                <dd><code>v3.4.0</code></dd>\n",
              "              <dt>Master</dt>\n",
              "                <dd><code>local[1]</code></dd>\n",
              "              <dt>AppName</dt>\n",
              "                <dd><code>vaibhav tiwari</code></dd>\n",
              "            </dl>\n",
              "        </div>\n",
              "        \n",
              "            </div>\n",
              "        "
            ]
          },
          "metadata": {},
          "execution_count": 271
        }
      ]
    },
    {
      "cell_type": "code",
      "source": [
        "data1=spark.read.csv(\"/content/sparkcsv.txt\",header=True,inferSchema=True)\n",
        "data1.show()\n",
        "\n"
      ],
      "metadata": {
        "colab": {
          "base_uri": "https://localhost:8080/"
        },
        "id": "rB0bHEpxdaS-",
        "outputId": "428bc4e6-39b9-4542-8dd2-885203568e15"
      },
      "execution_count": null,
      "outputs": [
        {
          "output_type": "stream",
          "name": "stdout",
          "text": [
            "+-------+------+----------+\n",
            "|   name|salary|department|\n",
            "+-------+------+----------+\n",
            "|  Alice| 50000|        HR|\n",
            "|    Bob| 60000|        IT|\n",
            "|Charlie| 55000|        HR|\n",
            "|  David| 65000|        IT|\n",
            "|  Emily| 45000|   Finance|\n",
            "|  Frank| 70000|        IT|\n",
            "|  Alice| 55000|        HR|\n",
            "|  Henry| 80000| Marketing|\n",
            "|  Isaac| 60000|        IT|\n",
            "+-------+------+----------+\n",
            "\n"
          ]
        }
      ]
    },
    {
      "cell_type": "code",
      "source": [
        "#finding the max salary according to the name\n",
        "#data1.groupBy('name').sum().show()\n",
        "data1.groupBy('department').sum().orderBy('sum(salary)',ascending=False).show()\n",
        "data1.groupBy('department').mean().show()\n",
        "data1.groupBy('department').count().show()\n",
        "\n",
        "\n"
      ],
      "metadata": {
        "colab": {
          "base_uri": "https://localhost:8080/"
        },
        "id": "xeMJZTdriVMY",
        "outputId": "a30ab77c-fd9d-4dc2-822c-9b6dd1543c32"
      },
      "execution_count": null,
      "outputs": [
        {
          "output_type": "stream",
          "name": "stdout",
          "text": [
            "+----------+-----------+\n",
            "|department|sum(salary)|\n",
            "+----------+-----------+\n",
            "|        IT|     255000|\n",
            "|        HR|     160000|\n",
            "| Marketing|      80000|\n",
            "|   Finance|      45000|\n",
            "+----------+-----------+\n",
            "\n",
            "+----------+------------------+\n",
            "|department|       avg(salary)|\n",
            "+----------+------------------+\n",
            "|        HR|53333.333333333336|\n",
            "|   Finance|           45000.0|\n",
            "| Marketing|           80000.0|\n",
            "|        IT|           63750.0|\n",
            "+----------+------------------+\n",
            "\n",
            "+----------+-----+\n",
            "|department|count|\n",
            "+----------+-----+\n",
            "|        HR|    3|\n",
            "|   Finance|    1|\n",
            "| Marketing|    1|\n",
            "|        IT|    4|\n",
            "+----------+-----+\n",
            "\n"
          ]
        }
      ]
    },
    {
      "cell_type": "code",
      "source": [
        "#we can use the aggregate function like this too\n",
        "data1.agg({'salary':'mean'}).show()"
      ],
      "metadata": {
        "colab": {
          "base_uri": "https://localhost:8080/"
        },
        "id": "sLZc11qKldPZ",
        "outputId": "117e2911-6128-4e73-efa8-965056485962"
      },
      "execution_count": null,
      "outputs": [
        {
          "output_type": "stream",
          "name": "stdout",
          "text": [
            "+-----------+\n",
            "|avg(salary)|\n",
            "+-----------+\n",
            "|    60000.0|\n",
            "+-----------+\n",
            "\n"
          ]
        }
      ]
    },
    {
      "cell_type": "code",
      "source": [
        "from google.colab import drive\n",
        "drive.mount('/content/drive')"
      ],
      "metadata": {
        "id": "GgNiSaOll5o3"
      },
      "execution_count": null,
      "outputs": []
    },
    {
      "cell_type": "code",
      "source": [
        "sc.stop"
      ],
      "metadata": {
        "id": "bKn8Tb7tldGR",
        "outputId": "a013b181-fbae-44ff-9d08-c660dd6d41db",
        "colab": {
          "base_uri": "https://localhost:8080/",
          "height": 165
        }
      },
      "execution_count": null,
      "outputs": [
        {
          "output_type": "error",
          "ename": "NameError",
          "evalue": "ignored",
          "traceback": [
            "\u001b[0;31m---------------------------------------------------------------------------\u001b[0m",
            "\u001b[0;31mNameError\u001b[0m                                 Traceback (most recent call last)",
            "\u001b[0;32m<ipython-input-1-f27b74e35b9b>\u001b[0m in \u001b[0;36m<cell line: 1>\u001b[0;34m()\u001b[0m\n\u001b[0;32m----> 1\u001b[0;31m \u001b[0msc\u001b[0m\u001b[0;34m.\u001b[0m\u001b[0mstop\u001b[0m\u001b[0;34m\u001b[0m\u001b[0;34m\u001b[0m\u001b[0m\n\u001b[0m",
            "\u001b[0;31mNameError\u001b[0m: name 'sc' is not defined"
          ]
        }
      ]
    }
  ]
}